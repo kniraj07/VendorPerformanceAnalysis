{
 "cells": [
  {
   "cell_type": "code",
   "execution_count": 18,
   "id": "059bfa6c-34d9-4445-8c38-3d12922617c1",
   "metadata": {},
   "outputs": [],
   "source": [
    "import pandas as pd\n",
    "import numpy as np\n",
    "import os\n",
    "from sqlalchemy import create_engine\n",
    "import logging\n",
    "import time\n",
    "# !pip install pandas\n",
    "# !pip install numpy seaborn\n",
    "# !pip install matplotlib\n",
    "#!pip install sqlalchemy\n",
    "logging.basicConfig(\n",
    "    filename=\"logs/ingestion_db.log\",\n",
    "    level=logging.DEBUG,\n",
    "    format=\"%(asctime)s-%(levelname)s-%(message)s\",\n",
    "    filemode='a'\n",
    ")\n",
    "engine=create_engine('sqlite:///inventory.db')\n",
    "def ingest_db(df,table_name,engine):\n",
    "    \"\"\"This function will ingest dataframe into database tables\"\"\"\n",
    "    df.to_sql(table_name,con=engine,if_exists='replace',index=False)\n",
    "\n",
    "def load_raw_data():\n",
    "    \"\"\"This function will load csv as dataframe and ingest into db\"\"\"\n",
    "    start=time.time()\n",
    "    for file in os.listdir('Data'):\n",
    "        if '.csv' in file:\n",
    "            df=pd.read_csv('Data/'+file)\n",
    "            logging.info(f'ingesting {file} in db....')\n",
    "            ingest_db(df,file[:-4],engine)\n",
    "    logging.info(\"Ingestion completed..\")\n",
    "    end=time.time()\n",
    "    total_time=(end-start)/60\n",
    "    logging.info(f'Total time take:{total_time}minutes')\n",
    "if __name__=='__main__':\n",
    "    load_raw_data()\n",
    "    "
   ]
  }
 ],
 "metadata": {
  "kernelspec": {
   "display_name": "Python 3 (ipykernel)",
   "language": "python",
   "name": "python3"
  },
  "language_info": {
   "codemirror_mode": {
    "name": "ipython",
    "version": 3
   },
   "file_extension": ".py",
   "mimetype": "text/x-python",
   "name": "python",
   "nbconvert_exporter": "python",
   "pygments_lexer": "ipython3",
   "version": "3.11.13"
  }
 },
 "nbformat": 4,
 "nbformat_minor": 5
}
