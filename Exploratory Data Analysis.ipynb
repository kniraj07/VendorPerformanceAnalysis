{
 "cells": [
  {
   "cell_type": "markdown",
   "id": "244dfb67-bce0-4510-a660-a0d29f81b355",
   "metadata": {},
   "source": [
    "**Understanding the dataset to explore how the data is present in the database and if there is any need of creating some aggregated tables that can help with**"
   ]
  },
  {
   "cell_type": "markdown",
   "id": "a2af4a25-73dd-4e54-a1b3-6749643f8d3e",
   "metadata": {},
   "source": [
    "1.Vendor selection for profitablity \n",
    "2.Product pricing optimization"
   ]
  },
  {
   "cell_type": "code",
   "execution_count": 2,
   "id": "fec49f73-5e7b-4670-ac89-99e2b7982a42",
   "metadata": {},
   "outputs": [],
   "source": [
    "import pandas as pd\n",
    "import sqlite3"
   ]
  },
  {
   "cell_type": "code",
   "execution_count": 4,
   "id": "8ece3356-3f0f-45b6-9135-ad8fc80eee6f",
   "metadata": {},
   "outputs": [],
   "source": [
    "conn=sqlite3.connect('inventory.db')"
   ]
  },
  {
   "cell_type": "code",
   "execution_count": 5,
   "id": "b98b10e9-f041-4c43-9b7b-d877a0b5e879",
   "metadata": {},
   "outputs": [
    {
     "data": {
      "text/html": [
       "<div>\n",
       "<style scoped>\n",
       "    .dataframe tbody tr th:only-of-type {\n",
       "        vertical-align: middle;\n",
       "    }\n",
       "\n",
       "    .dataframe tbody tr th {\n",
       "        vertical-align: top;\n",
       "    }\n",
       "\n",
       "    .dataframe thead th {\n",
       "        text-align: right;\n",
       "    }\n",
       "</style>\n",
       "<table border=\"1\" class=\"dataframe\">\n",
       "  <thead>\n",
       "    <tr style=\"text-align: right;\">\n",
       "      <th></th>\n",
       "      <th>name</th>\n",
       "    </tr>\n",
       "  </thead>\n",
       "  <tbody>\n",
       "    <tr>\n",
       "      <th>0</th>\n",
       "      <td>purchases</td>\n",
       "    </tr>\n",
       "    <tr>\n",
       "      <th>1</th>\n",
       "      <td>purchase_prices</td>\n",
       "    </tr>\n",
       "    <tr>\n",
       "      <th>2</th>\n",
       "      <td>vendor_invoice</td>\n",
       "    </tr>\n",
       "    <tr>\n",
       "      <th>3</th>\n",
       "      <td>begin_inventory</td>\n",
       "    </tr>\n",
       "    <tr>\n",
       "      <th>4</th>\n",
       "      <td>end_inventory</td>\n",
       "    </tr>\n",
       "    <tr>\n",
       "      <th>5</th>\n",
       "      <td>sales</td>\n",
       "    </tr>\n",
       "  </tbody>\n",
       "</table>\n",
       "</div>"
      ],
      "text/plain": [
       "              name\n",
       "0        purchases\n",
       "1  purchase_prices\n",
       "2   vendor_invoice\n",
       "3  begin_inventory\n",
       "4    end_inventory\n",
       "5            sales"
      ]
     },
     "execution_count": 5,
     "metadata": {},
     "output_type": "execute_result"
    }
   ],
   "source": [
    "tables=pd.read_sql_query(\"SELECT name from sqlite_master where type='table'\",conn)\n",
    "tables"
   ]
  },
  {
   "cell_type": "code",
   "execution_count": 16,
   "id": "07029ce9-ce93-43a9-b210-9a3e5934064a",
   "metadata": {},
   "outputs": [
    {
     "name": "stdout",
     "output_type": "stream",
     "text": [
      "purchases table has :2372474 rows..\n"
     ]
    }
   ],
   "source": [
    "purchases=pd.read_sql(\"SELECT COUNT(*) as count FROM purchases\",conn)\n",
    "#purchases['count'].values\n",
    "purchases=pd.read_sql(f\"SELECT COUNT(*) FROM purchases\",conn).values[0][0]\n",
    "print(f'purchases table has :{purchases} rows..')"
   ]
  },
  {
   "cell_type": "code",
   "execution_count": 19,
   "id": "9c6336ae-09ac-4a52-9415-3cebbb050dd7",
   "metadata": {},
   "outputs": [
    {
     "name": "stdout",
     "output_type": "stream",
     "text": [
      "-------------------------------------------------- purchases --------------------------------------------------\n",
      "purchases has :2372474 rows..\n",
      "           InventoryId  Store  Brand                   Description   Size  \\\n",
      "0    69_MOUNTMEND_8412     69   8412     Tequila Ocho Plata Fresno  750mL   \n",
      "1     30_CULCHETH_5255     30   5255  TGI Fridays Ultimte Mudslide  1.75L   \n",
      "2    34_PITMERDEN_5215     34   5215  TGI Fridays Long Island Iced  1.75L   \n",
      "3  1_HARDERSFIELD_5255      1   5255  TGI Fridays Ultimte Mudslide  1.75L   \n",
      "4    76_DONCASTER_2034     76   2034     Glendalough Double Barrel  750mL   \n",
      "\n",
      "   VendorNumber                   VendorName  PONumber      PODate  \\\n",
      "0           105  ALTAMAR BRANDS LLC               8124  2023-12-21   \n",
      "1          4466  AMERICAN VINTAGE BEVERAGE        8137  2023-12-22   \n",
      "2          4466  AMERICAN VINTAGE BEVERAGE        8137  2023-12-22   \n",
      "3          4466  AMERICAN VINTAGE BEVERAGE        8137  2023-12-22   \n",
      "4           388  ATLANTIC IMPORTING COMPANY       8169  2023-12-24   \n",
      "\n",
      "  ReceivingDate InvoiceDate     PayDate  PurchasePrice  Quantity  Dollars  \\\n",
      "0    2024-01-02  2024-01-04  2024-02-16          35.71         6   214.26   \n",
      "1    2024-01-01  2024-01-07  2024-02-21           9.35         4    37.40   \n",
      "2    2024-01-02  2024-01-07  2024-02-21           9.41         5    47.05   \n",
      "3    2024-01-01  2024-01-07  2024-02-21           9.35         6    56.10   \n",
      "4    2024-01-02  2024-01-09  2024-02-16          21.32         5   106.60   \n",
      "\n",
      "   Classification  \n",
      "0               1  \n",
      "1               1  \n",
      "2               1  \n",
      "3               1  \n",
      "4               1  \n",
      "-------------------------------------------------- purchase_prices --------------------------------------------------\n",
      "purchase_prices has :12261 rows..\n",
      "   Brand                  Description  Price   Size Volume  Classification  \\\n",
      "0     58  Gekkeikan Black & Gold Sake  12.99  750mL    750               1   \n",
      "1     62     Herradura Silver Tequila  36.99  750mL    750               1   \n",
      "2     63   Herradura Reposado Tequila  38.99  750mL    750               1   \n",
      "3     72         No. 3 London Dry Gin  34.99  750mL    750               1   \n",
      "4     75    Three Olives Tomato Vodka  14.99  750mL    750               1   \n",
      "\n",
      "   PurchasePrice  VendorNumber                   VendorName  \n",
      "0           9.28          8320  SHAW ROSS INT L IMP LTD      \n",
      "1          28.67          1128  BROWN-FORMAN CORP            \n",
      "2          30.46          1128  BROWN-FORMAN CORP            \n",
      "3          26.11          9165  ULTRA BEVERAGE COMPANY LLP   \n",
      "4          10.94          7245  PROXIMO SPIRITS INC.         \n",
      "-------------------------------------------------- vendor_invoice --------------------------------------------------\n",
      "vendor_invoice has :5543 rows..\n",
      "   VendorNumber                   VendorName InvoiceDate  PONumber  \\\n",
      "0           105  ALTAMAR BRANDS LLC           2024-01-04      8124   \n",
      "1          4466  AMERICAN VINTAGE BEVERAGE    2024-01-07      8137   \n",
      "2           388  ATLANTIC IMPORTING COMPANY   2024-01-09      8169   \n",
      "3           480  BACARDI USA INC              2024-01-12      8106   \n",
      "4           516  BANFI PRODUCTS CORP          2024-01-07      8170   \n",
      "\n",
      "       PODate     PayDate  Quantity    Dollars  Freight Approval  \n",
      "0  2023-12-21  2024-02-16         6     214.26     3.47     None  \n",
      "1  2023-12-22  2024-02-21        15     140.55     8.57     None  \n",
      "2  2023-12-24  2024-02-16         5     106.60     4.61     None  \n",
      "3  2023-12-20  2024-02-05     10100  137483.78  2935.20     None  \n",
      "4  2023-12-24  2024-02-12      1935   15527.25   429.20     None  \n",
      "-------------------------------------------------- begin_inventory --------------------------------------------------\n",
      "begin_inventory has :206529 rows..\n",
      "         InventoryId  Store          City  Brand                  Description  \\\n",
      "0  1_HARDERSFIELD_58      1  HARDERSFIELD     58  Gekkeikan Black & Gold Sake   \n",
      "1  1_HARDERSFIELD_60      1  HARDERSFIELD     60       Canadian Club 1858 VAP   \n",
      "2  1_HARDERSFIELD_62      1  HARDERSFIELD     62     Herradura Silver Tequila   \n",
      "3  1_HARDERSFIELD_63      1  HARDERSFIELD     63   Herradura Reposado Tequila   \n",
      "4  1_HARDERSFIELD_72      1  HARDERSFIELD     72         No. 3 London Dry Gin   \n",
      "\n",
      "    Size  onHand  Price   startDate  \n",
      "0  750mL       8  12.99  2024-01-01  \n",
      "1  750mL       7  10.99  2024-01-01  \n",
      "2  750mL       6  36.99  2024-01-01  \n",
      "3  750mL       3  38.99  2024-01-01  \n",
      "4  750mL       6  34.99  2024-01-01  \n",
      "-------------------------------------------------- end_inventory --------------------------------------------------\n",
      "end_inventory has :224489 rows..\n",
      "         InventoryId  Store          City  Brand                  Description  \\\n",
      "0  1_HARDERSFIELD_58      1  HARDERSFIELD     58  Gekkeikan Black & Gold Sake   \n",
      "1  1_HARDERSFIELD_62      1  HARDERSFIELD     62     Herradura Silver Tequila   \n",
      "2  1_HARDERSFIELD_63      1  HARDERSFIELD     63   Herradura Reposado Tequila   \n",
      "3  1_HARDERSFIELD_72      1  HARDERSFIELD     72         No. 3 London Dry Gin   \n",
      "4  1_HARDERSFIELD_75      1  HARDERSFIELD     75    Three Olives Tomato Vodka   \n",
      "\n",
      "    Size  onHand  Price     endDate  \n",
      "0  750mL      11  12.99  2024-12-31  \n",
      "1  750mL       7  36.99  2024-12-31  \n",
      "2  750mL       7  38.99  2024-12-31  \n",
      "3  750mL       4  34.99  2024-12-31  \n",
      "4  750mL       7  14.99  2024-12-31  \n",
      "-------------------------------------------------- sales --------------------------------------------------\n",
      "sales has :12825363 rows..\n",
      "           InventoryId  Store  Brand                 Description        Size  \\\n",
      "0  1_HARDERSFIELD_1004      1   1004  Jim Beam w/2 Rocks Glasses       750mL   \n",
      "1  1_HARDERSFIELD_1004      1   1004  Jim Beam w/2 Rocks Glasses       750mL   \n",
      "2  1_HARDERSFIELD_1004      1   1004  Jim Beam w/2 Rocks Glasses       750mL   \n",
      "3  1_HARDERSFIELD_1004      1   1004  Jim Beam w/2 Rocks Glasses       750mL   \n",
      "4  1_HARDERSFIELD_1005      1   1005     Maker's Mark Combo Pack  375mL 2 Pk   \n",
      "\n",
      "   SalesQuantity  SalesDollars  SalesPrice   SalesDate  Volume  \\\n",
      "0              1         16.49       16.49  2024-01-01   750.0   \n",
      "1              2         32.98       16.49  2024-01-02   750.0   \n",
      "2              1         16.49       16.49  2024-01-03   750.0   \n",
      "3              1         14.49       14.49  2024-01-08   750.0   \n",
      "4              2         69.98       34.99  2024-01-09   375.0   \n",
      "\n",
      "   Classification  ExciseTax  VendorNo                   VendorName  \n",
      "0               1       0.79     12546  JIM BEAM BRANDS COMPANY      \n",
      "1               1       1.57     12546  JIM BEAM BRANDS COMPANY      \n",
      "2               1       0.79     12546  JIM BEAM BRANDS COMPANY      \n",
      "3               1       0.79     12546  JIM BEAM BRANDS COMPANY      \n",
      "4               1       0.79     12546  JIM BEAM BRANDS COMPANY      \n"
     ]
    }
   ],
   "source": [
    "for table in tables['name']:\n",
    "    print('-'*50,table,'-'*50)\n",
    "    table_count=pd.read_sql(f\"SELECT COUNT(*) as count FROM {table}\",conn)['count'].values[0]\n",
    "    print(f'{table} has :{table_count} rows..')\n",
    "    print(pd.read_sql(f'SELECT * FROM {table} limit 5',conn))"
   ]
  },
  {
   "cell_type": "code",
   "execution_count": 21,
   "id": "71856924-32ca-474a-a41d-4258b137e5de",
   "metadata": {},
   "outputs": [
    {
     "name": "stdout",
     "output_type": "stream",
     "text": [
      "Total time taken: 0.35 minutes\n"
     ]
    }
   ],
   "source": [
    "import time\n",
    "import pandas as pd\n",
    "\n",
    "start = time.time()\n",
    "\n",
    "query = \"\"\"\n",
    "WITH FreightSummary AS (\n",
    "    SELECT VendorNumber,\n",
    "           SUM(Freight) AS FreightCost\n",
    "    FROM vendor_invoice\n",
    "    GROUP BY VendorNumber\n",
    "),\n",
    "PurchasesSummary AS (\n",
    "    SELECT p.VendorNumber,\n",
    "           p.VendorName,\n",
    "           p.Brand,\n",
    "           p.Description,\n",
    "           p.PurchasePrice,\n",
    "           pp.Price AS ActualPrice,\n",
    "           pp.volume,\n",
    "           SUM(p.Quantity) AS TotalPurchaseQuantity,\n",
    "           SUM(p.Dollars) AS TotalPurchaseDollars\n",
    "    FROM purchases p\n",
    "    JOIN purchase_prices pp ON p.Brand = pp.Brand\n",
    "    WHERE p.PurchasePrice > 0\n",
    "    GROUP BY p.VendorNumber, p.VendorName, p.Brand, p.Description, p.PurchasePrice, pp.Price, pp.volume\n",
    "),\n",
    "SalesSummary AS (\n",
    "    SELECT VendorNo,\n",
    "           Brand,\n",
    "           SUM(SalesQuantity) AS TotalSalesQuantity,\n",
    "           SUM(SalesDollars) AS TotalSalesDollars,\n",
    "           SUM(SalesPrice) AS TotalSalesPrice,\n",
    "           SUM(ExciseTax) AS TotalExciseTax\n",
    "    FROM sales\n",
    "    GROUP BY VendorNo, Brand\n",
    ")\n",
    "SELECT\n",
    "    ps.VendorNumber,\n",
    "    ps.VendorName,\n",
    "    ps.Brand,\n",
    "    ps.Description,\n",
    "    ps.PurchasePrice,\n",
    "    ps.ActualPrice,\n",
    "    ps.volume,\n",
    "    ps.TotalPurchaseQuantity,\n",
    "    ps.TotalPurchaseDollars,\n",
    "    ss.TotalSalesQuantity,\n",
    "    ss.TotalSalesDollars,\n",
    "    ss.TotalSalesPrice,\n",
    "    ss.TotalExciseTax,\n",
    "    fs.FreightCost\n",
    "FROM PurchasesSummary ps\n",
    "LEFT JOIN SalesSummary ss ON ps.VendorNumber = ss.VendorNo AND ps.Brand = ss.Brand\n",
    "LEFT JOIN FreightSummary fs ON ps.VendorNumber = fs.VendorNumber\n",
    "ORDER BY ps.TotalPurchaseDollars DESC\n",
    "\"\"\"\n",
    "\n",
    "vendor_sales_summary = pd.read_sql_query(query, conn)\n",
    "\n",
    "end = time.time()\n",
    "print(f\"Total time taken: {(end - start)/60:.2f} minutes\")\n"
   ]
  },
  {
   "cell_type": "code",
   "execution_count": 22,
   "id": "50927622-d1c4-450f-820d-9a4e1945c5dd",
   "metadata": {},
   "outputs": [
    {
     "data": {
      "text/plain": [
       "VendorNumber               int64\n",
       "VendorName                object\n",
       "Brand                      int64\n",
       "Description               object\n",
       "PurchasePrice            float64\n",
       "ActualPrice              float64\n",
       "volume                    object\n",
       "TotalPurchaseQuantity      int64\n",
       "TotalPurchaseDollars     float64\n",
       "TotalSalesQuantity       float64\n",
       "TotalSalesDollars        float64\n",
       "TotalSalesPrice          float64\n",
       "TotalExciseTax           float64\n",
       "FreightCost              float64\n",
       "dtype: object"
      ]
     },
     "execution_count": 22,
     "metadata": {},
     "output_type": "execute_result"
    }
   ],
   "source": [
    "vendor_sales_summary.dtypes"
   ]
  },
  {
   "cell_type": "code",
   "execution_count": 23,
   "id": "2379b4c0-0177-4514-af8d-e0b06851f749",
   "metadata": {},
   "outputs": [
    {
     "data": {
      "text/plain": [
       "VendorNumber               0\n",
       "VendorName                 0\n",
       "Brand                      0\n",
       "Description                0\n",
       "PurchasePrice              0\n",
       "ActualPrice                0\n",
       "volume                     0\n",
       "TotalPurchaseQuantity      0\n",
       "TotalPurchaseDollars       0\n",
       "TotalSalesQuantity       178\n",
       "TotalSalesDollars        178\n",
       "TotalSalesPrice          178\n",
       "TotalExciseTax           178\n",
       "FreightCost                0\n",
       "dtype: int64"
      ]
     },
     "execution_count": 23,
     "metadata": {},
     "output_type": "execute_result"
    }
   ],
   "source": [
    "vendor_sales_summary.isnull().sum()"
   ]
  },
  {
   "cell_type": "code",
   "execution_count": 24,
   "id": "2e312301-102b-4570-8d8d-84528a45b8d5",
   "metadata": {},
   "outputs": [
    {
     "data": {
      "text/plain": [
       "Index(['VendorNumber', 'VendorName', 'Brand', 'Description', 'PurchasePrice',\n",
       "       'ActualPrice', 'volume', 'TotalPurchaseQuantity',\n",
       "       'TotalPurchaseDollars', 'TotalSalesQuantity', 'TotalSalesDollars',\n",
       "       'TotalSalesPrice', 'TotalExciseTax', 'FreightCost'],\n",
       "      dtype='object')"
      ]
     },
     "execution_count": 24,
     "metadata": {},
     "output_type": "execute_result"
    }
   ],
   "source": [
    "vendor_sales_summary.columns"
   ]
  },
  {
   "cell_type": "code",
   "execution_count": 28,
   "id": "926cc2a3-f082-4b47-a35b-abfef075e528",
   "metadata": {},
   "outputs": [],
   "source": [
    "vendor_sales_summary['VendorName']=vendor_sales_summary['VendorName'].str.strip()"
   ]
  },
  {
   "cell_type": "code",
   "execution_count": 29,
   "id": "2d66be19-1479-44ef-a05d-bd6c97f4edeb",
   "metadata": {},
   "outputs": [
    {
     "data": {
      "text/plain": [
       "0               BROWN-FORMAN CORP\n",
       "1           MARTIGNETTI COMPANIES\n",
       "2               PERNOD RICARD USA\n",
       "3        DIAGEO NORTH AMERICA INC\n",
       "4        DIAGEO NORTH AMERICA INC\n",
       "                   ...           \n",
       "10687              WINE GROUP INC\n",
       "10688              SAZERAC CO INC\n",
       "10689    HEAVEN HILL DISTILLERIES\n",
       "10690    DIAGEO NORTH AMERICA INC\n",
       "10691        PROXIMO SPIRITS INC.\n",
       "Name: VendorName, Length: 10692, dtype: object"
      ]
     },
     "execution_count": 29,
     "metadata": {},
     "output_type": "execute_result"
    }
   ],
   "source": [
    "vendor_sales_summary['VendorName']"
   ]
  },
  {
   "cell_type": "code",
   "execution_count": 30,
   "id": "dbe35481-d164-4ef1-9626-2f350ef99240",
   "metadata": {},
   "outputs": [],
   "source": [
    "vendor_sales_summary.fillna(0,inplace=True)"
   ]
  },
  {
   "cell_type": "code",
   "execution_count": 31,
   "id": "26203299-6e91-4a71-9a90-b2d83628bfa7",
   "metadata": {},
   "outputs": [],
   "source": [
    "vendor_sales_summary['volume']=vendor_sales_summary['volume'].astype('float64')"
   ]
  },
  {
   "cell_type": "code",
   "execution_count": 32,
   "id": "43f55ac1-d06a-4ea1-8688-997cbc475fa2",
   "metadata": {},
   "outputs": [
    {
     "data": {
      "text/plain": [
       "VendorNumber             0\n",
       "VendorName               0\n",
       "Brand                    0\n",
       "Description              0\n",
       "PurchasePrice            0\n",
       "ActualPrice              0\n",
       "volume                   0\n",
       "TotalPurchaseQuantity    0\n",
       "TotalPurchaseDollars     0\n",
       "TotalSalesQuantity       0\n",
       "TotalSalesDollars        0\n",
       "TotalSalesPrice          0\n",
       "TotalExciseTax           0\n",
       "FreightCost              0\n",
       "dtype: int64"
      ]
     },
     "execution_count": 32,
     "metadata": {},
     "output_type": "execute_result"
    }
   ],
   "source": [
    "vendor_sales_summary.isnull().sum()"
   ]
  },
  {
   "cell_type": "code",
   "execution_count": 33,
   "id": "b9bbfaed-e6ee-4afc-812f-1c7cfe1debc1",
   "metadata": {},
   "outputs": [
    {
     "data": {
      "text/plain": [
       "VendorNumber               int64\n",
       "VendorName                object\n",
       "Brand                      int64\n",
       "Description               object\n",
       "PurchasePrice            float64\n",
       "ActualPrice              float64\n",
       "volume                   float64\n",
       "TotalPurchaseQuantity      int64\n",
       "TotalPurchaseDollars     float64\n",
       "TotalSalesQuantity       float64\n",
       "TotalSalesDollars        float64\n",
       "TotalSalesPrice          float64\n",
       "TotalExciseTax           float64\n",
       "FreightCost              float64\n",
       "dtype: object"
      ]
     },
     "execution_count": 33,
     "metadata": {},
     "output_type": "execute_result"
    }
   ],
   "source": [
    "vendor_sales_summary.dtypes"
   ]
  },
  {
   "cell_type": "code",
   "execution_count": null,
   "id": "9db391cc-2e0d-45d5-9383-b63807e6309b",
   "metadata": {},
   "outputs": [],
   "source": []
  },
  {
   "cell_type": "code",
   "execution_count": null,
   "id": "06588872-047f-4c6c-b9c6-64b8ebb00513",
   "metadata": {},
   "outputs": [],
   "source": []
  },
  {
   "cell_type": "code",
   "execution_count": 34,
   "id": "5cdf7a82-7765-4f02-9194-2f8a7cf9bd26",
   "metadata": {},
   "outputs": [
    {
     "data": {
      "text/plain": [
       "Index(['VendorNumber', 'VendorName', 'Brand', 'Description', 'PurchasePrice',\n",
       "       'ActualPrice', 'volume', 'TotalPurchaseQuantity',\n",
       "       'TotalPurchaseDollars', 'TotalSalesQuantity', 'TotalSalesDollars',\n",
       "       'TotalSalesPrice', 'TotalExciseTax', 'FreightCost'],\n",
       "      dtype='object')"
      ]
     },
     "execution_count": 34,
     "metadata": {},
     "output_type": "execute_result"
    }
   ],
   "source": [
    "vendor_sales_summary.columns"
   ]
  },
  {
   "cell_type": "code",
   "execution_count": 35,
   "id": "482ce274-849b-40d6-957f-0d285d9c9263",
   "metadata": {},
   "outputs": [],
   "source": [
    "vendor_sales_summary['GrossProfit']=vendor_sales_summary['TotalSalesDollars']-vendor_sales_summary['TotalPurchaseDollars']"
   ]
  },
  {
   "cell_type": "code",
   "execution_count": null,
   "id": "ec9cda01-43a2-4e99-9e43-29b9bacd178e",
   "metadata": {},
   "outputs": [],
   "source": []
  },
  {
   "cell_type": "code",
   "execution_count": null,
   "id": "c699f162-b127-4d54-8422-e3fbcf2af393",
   "metadata": {},
   "outputs": [],
   "source": []
  },
  {
   "cell_type": "code",
   "execution_count": 37,
   "id": "dc976bff-5904-4e2f-b609-ed1cc3c364be",
   "metadata": {},
   "outputs": [],
   "source": [
    "vendor_sales_summary['ProfitMargin']=(vendor_sales_summary['GrossProfit']/vendor_sales_summary['TotalSalesDollars'])*100"
   ]
  },
  {
   "cell_type": "code",
   "execution_count": 38,
   "id": "91cab934-1b8d-4ed0-ba05-c01e326e32b2",
   "metadata": {},
   "outputs": [],
   "source": [
    "vendor_sales_summary['StockTurnover']=vendor_sales_summary['TotalSalesQuantity']/vendor_sales_summary['TotalPurchaseQuantity']"
   ]
  },
  {
   "cell_type": "code",
   "execution_count": 39,
   "id": "0a41845a-78c1-4726-aa57-5758ee5f8a59",
   "metadata": {},
   "outputs": [],
   "source": [
    "vendor_sales_summary['SalestoPurchaseRatio']=vendor_sales_summary['TotalSalesDollars']/vendor_sales_summary['TotalPurchaseDollars']"
   ]
  },
  {
   "cell_type": "code",
   "execution_count": 40,
   "id": "ac4ae60e-f61b-4b16-ad5f-599ccb6cdc0c",
   "metadata": {},
   "outputs": [],
   "source": [
    "cursor=conn.cursor()"
   ]
  },
  {
   "cell_type": "code",
   "execution_count": 41,
   "id": "176a74d2-fc9c-4464-b087-943e0ebd0f33",
   "metadata": {},
   "outputs": [
    {
     "data": {
      "text/plain": [
       "Index(['VendorNumber', 'VendorName', 'Brand', 'Description', 'PurchasePrice',\n",
       "       'ActualPrice', 'volume', 'TotalPurchaseQuantity',\n",
       "       'TotalPurchaseDollars', 'TotalSalesQuantity', 'TotalSalesDollars',\n",
       "       'TotalSalesPrice', 'TotalExciseTax', 'FreightCost', 'GrossProfit',\n",
       "       'ProfitMargin', 'StockTurnover', 'SalestoPurchaseRatio'],\n",
       "      dtype='object')"
      ]
     },
     "execution_count": 41,
     "metadata": {},
     "output_type": "execute_result"
    }
   ],
   "source": [
    "vendor_sales_summary.columns"
   ]
  },
  {
   "cell_type": "code",
   "execution_count": 42,
   "id": "b589756a-0816-4894-b629-013d0d84ee67",
   "metadata": {},
   "outputs": [
    {
     "data": {
      "text/plain": [
       "<sqlite3.Cursor at 0x10897d6c0>"
      ]
     },
     "execution_count": 42,
     "metadata": {},
     "output_type": "execute_result"
    }
   ],
   "source": [
    "cursor.execute(\"\"\"CREATE TABLE vendor_sales_summary(\n",
    "        VendorNumber INT,\n",
    "        VendorName VARCHAR(100),\n",
    "        Brand VARCHAR(100),\n",
    "        Description VARCHAR(100),\n",
    "        PurchasePrice DECIMAL(10,2),\n",
    "        ActualPrice DECIMAL(10,2),\n",
    "        volume,\n",
    "        TotalPurchaseQuantity int,\n",
    "        TotalPurchaseDollars DECIMAL(15,2),\n",
    "        TotalSalesQuantity int,\n",
    "        TotalSalesDollars DECIMAL(15,2),\n",
    "        TotalSalesPrice DECIMAL(15,2),\n",
    "        TotalExciseTax DECIMAL(15,2),\n",
    "        FreightCost    DECIMAL(15,2),\n",
    "        GrossProfit DECIMAL(15,2),\n",
    "        ProfitMargin DECIMAL(15,2),\n",
    "        StockTurnover DECIMAL(15,2),\n",
    "        SalestoPurchaseRatio DECIMAL(15,2),\n",
    "        PRIMARY KEY (VendorNumber,Brand)\n",
    "        \n",
    ")\n",
    "\n",
    "\n",
    "\"\"\")"
   ]
  },
  {
   "cell_type": "code",
   "execution_count": 43,
   "id": "38b555c4-02b3-49f2-982c-14074aa30d62",
   "metadata": {},
   "outputs": [
    {
     "data": {
      "text/html": [
       "<div>\n",
       "<style scoped>\n",
       "    .dataframe tbody tr th:only-of-type {\n",
       "        vertical-align: middle;\n",
       "    }\n",
       "\n",
       "    .dataframe tbody tr th {\n",
       "        vertical-align: top;\n",
       "    }\n",
       "\n",
       "    .dataframe thead th {\n",
       "        text-align: right;\n",
       "    }\n",
       "</style>\n",
       "<table border=\"1\" class=\"dataframe\">\n",
       "  <thead>\n",
       "    <tr style=\"text-align: right;\">\n",
       "      <th></th>\n",
       "      <th>VendorNumber</th>\n",
       "      <th>VendorName</th>\n",
       "      <th>Brand</th>\n",
       "      <th>Description</th>\n",
       "      <th>PurchasePrice</th>\n",
       "      <th>ActualPrice</th>\n",
       "      <th>volume</th>\n",
       "      <th>TotalPurchaseQuantity</th>\n",
       "      <th>TotalPurchaseDollars</th>\n",
       "      <th>TotalSalesQuantity</th>\n",
       "      <th>TotalSalesDollars</th>\n",
       "      <th>TotalSalesPrice</th>\n",
       "      <th>TotalExciseTax</th>\n",
       "      <th>FreightCost</th>\n",
       "      <th>GrossProfit</th>\n",
       "      <th>ProfitMargin</th>\n",
       "      <th>StockTurnover</th>\n",
       "      <th>SalestoPurchaseRatio</th>\n",
       "    </tr>\n",
       "  </thead>\n",
       "  <tbody>\n",
       "  </tbody>\n",
       "</table>\n",
       "</div>"
      ],
      "text/plain": [
       "Empty DataFrame\n",
       "Columns: [VendorNumber, VendorName, Brand, Description, PurchasePrice, ActualPrice, volume, TotalPurchaseQuantity, TotalPurchaseDollars, TotalSalesQuantity, TotalSalesDollars, TotalSalesPrice, TotalExciseTax, FreightCost, GrossProfit, ProfitMargin, StockTurnover, SalestoPurchaseRatio]\n",
       "Index: []"
      ]
     },
     "execution_count": 43,
     "metadata": {},
     "output_type": "execute_result"
    }
   ],
   "source": [
    "pd.read_sql(\"SELECT * FROM vendor_sales_summary\",conn)"
   ]
  },
  {
   "cell_type": "code",
   "execution_count": 44,
   "id": "240f5227-55de-433b-961b-3230c0a9bb95",
   "metadata": {},
   "outputs": [
    {
     "data": {
      "text/plain": [
       "10692"
      ]
     },
     "execution_count": 44,
     "metadata": {},
     "output_type": "execute_result"
    }
   ],
   "source": [
    "vendor_sales_summary.to_sql('vendor_sales_summary',conn,if_exists='replace',index=False)"
   ]
  },
  {
   "cell_type": "code",
   "execution_count": 45,
   "id": "e27365a7-b640-46ac-b4c8-7cfc269126f9",
   "metadata": {},
   "outputs": [
    {
     "data": {
      "text/html": [
       "<div>\n",
       "<style scoped>\n",
       "    .dataframe tbody tr th:only-of-type {\n",
       "        vertical-align: middle;\n",
       "    }\n",
       "\n",
       "    .dataframe tbody tr th {\n",
       "        vertical-align: top;\n",
       "    }\n",
       "\n",
       "    .dataframe thead th {\n",
       "        text-align: right;\n",
       "    }\n",
       "</style>\n",
       "<table border=\"1\" class=\"dataframe\">\n",
       "  <thead>\n",
       "    <tr style=\"text-align: right;\">\n",
       "      <th></th>\n",
       "      <th>VendorNumber</th>\n",
       "      <th>VendorName</th>\n",
       "      <th>Brand</th>\n",
       "      <th>Description</th>\n",
       "      <th>PurchasePrice</th>\n",
       "      <th>ActualPrice</th>\n",
       "      <th>volume</th>\n",
       "      <th>TotalPurchaseQuantity</th>\n",
       "      <th>TotalPurchaseDollars</th>\n",
       "      <th>TotalSalesQuantity</th>\n",
       "      <th>TotalSalesDollars</th>\n",
       "      <th>TotalSalesPrice</th>\n",
       "      <th>TotalExciseTax</th>\n",
       "      <th>FreightCost</th>\n",
       "      <th>GrossProfit</th>\n",
       "      <th>ProfitMargin</th>\n",
       "      <th>StockTurnover</th>\n",
       "      <th>SalestoPurchaseRatio</th>\n",
       "    </tr>\n",
       "  </thead>\n",
       "  <tbody>\n",
       "    <tr>\n",
       "      <th>0</th>\n",
       "      <td>1128</td>\n",
       "      <td>BROWN-FORMAN CORP</td>\n",
       "      <td>1233</td>\n",
       "      <td>Jack Daniels No 7 Black</td>\n",
       "      <td>26.27</td>\n",
       "      <td>36.99</td>\n",
       "      <td>1750.0</td>\n",
       "      <td>145080</td>\n",
       "      <td>3811251.60</td>\n",
       "      <td>142049.0</td>\n",
       "      <td>5101919.51</td>\n",
       "      <td>672819.31</td>\n",
       "      <td>260999.20</td>\n",
       "      <td>68601.68</td>\n",
       "      <td>1290667.91</td>\n",
       "      <td>25.297693</td>\n",
       "      <td>0.979108</td>\n",
       "      <td>1.338647</td>\n",
       "    </tr>\n",
       "    <tr>\n",
       "      <th>1</th>\n",
       "      <td>4425</td>\n",
       "      <td>MARTIGNETTI COMPANIES</td>\n",
       "      <td>3405</td>\n",
       "      <td>Tito's Handmade Vodka</td>\n",
       "      <td>23.19</td>\n",
       "      <td>28.99</td>\n",
       "      <td>1750.0</td>\n",
       "      <td>164038</td>\n",
       "      <td>3804041.22</td>\n",
       "      <td>160247.0</td>\n",
       "      <td>4819073.49</td>\n",
       "      <td>561512.37</td>\n",
       "      <td>294438.66</td>\n",
       "      <td>144929.24</td>\n",
       "      <td>1015032.27</td>\n",
       "      <td>21.062810</td>\n",
       "      <td>0.976890</td>\n",
       "      <td>1.266830</td>\n",
       "    </tr>\n",
       "    <tr>\n",
       "      <th>2</th>\n",
       "      <td>17035</td>\n",
       "      <td>PERNOD RICARD USA</td>\n",
       "      <td>8068</td>\n",
       "      <td>Absolut 80 Proof</td>\n",
       "      <td>18.24</td>\n",
       "      <td>24.99</td>\n",
       "      <td>1750.0</td>\n",
       "      <td>187407</td>\n",
       "      <td>3418303.68</td>\n",
       "      <td>187140.0</td>\n",
       "      <td>4538120.60</td>\n",
       "      <td>461140.15</td>\n",
       "      <td>343854.07</td>\n",
       "      <td>123780.22</td>\n",
       "      <td>1119816.92</td>\n",
       "      <td>24.675786</td>\n",
       "      <td>0.998575</td>\n",
       "      <td>1.327594</td>\n",
       "    </tr>\n",
       "    <tr>\n",
       "      <th>3</th>\n",
       "      <td>3960</td>\n",
       "      <td>DIAGEO NORTH AMERICA INC</td>\n",
       "      <td>4261</td>\n",
       "      <td>Capt Morgan Spiced Rum</td>\n",
       "      <td>16.17</td>\n",
       "      <td>22.99</td>\n",
       "      <td>1750.0</td>\n",
       "      <td>201682</td>\n",
       "      <td>3261197.94</td>\n",
       "      <td>200412.0</td>\n",
       "      <td>4475972.88</td>\n",
       "      <td>420050.01</td>\n",
       "      <td>368242.80</td>\n",
       "      <td>257032.07</td>\n",
       "      <td>1214774.94</td>\n",
       "      <td>27.139908</td>\n",
       "      <td>0.993703</td>\n",
       "      <td>1.372493</td>\n",
       "    </tr>\n",
       "    <tr>\n",
       "      <th>4</th>\n",
       "      <td>3960</td>\n",
       "      <td>DIAGEO NORTH AMERICA INC</td>\n",
       "      <td>3545</td>\n",
       "      <td>Ketel One Vodka</td>\n",
       "      <td>21.89</td>\n",
       "      <td>29.99</td>\n",
       "      <td>1750.0</td>\n",
       "      <td>138109</td>\n",
       "      <td>3023206.01</td>\n",
       "      <td>135838.0</td>\n",
       "      <td>4223107.62</td>\n",
       "      <td>545778.28</td>\n",
       "      <td>249587.83</td>\n",
       "      <td>257032.07</td>\n",
       "      <td>1199901.61</td>\n",
       "      <td>28.412764</td>\n",
       "      <td>0.983556</td>\n",
       "      <td>1.396897</td>\n",
       "    </tr>\n",
       "    <tr>\n",
       "      <th>...</th>\n",
       "      <td>...</td>\n",
       "      <td>...</td>\n",
       "      <td>...</td>\n",
       "      <td>...</td>\n",
       "      <td>...</td>\n",
       "      <td>...</td>\n",
       "      <td>...</td>\n",
       "      <td>...</td>\n",
       "      <td>...</td>\n",
       "      <td>...</td>\n",
       "      <td>...</td>\n",
       "      <td>...</td>\n",
       "      <td>...</td>\n",
       "      <td>...</td>\n",
       "      <td>...</td>\n",
       "      <td>...</td>\n",
       "      <td>...</td>\n",
       "      <td>...</td>\n",
       "    </tr>\n",
       "    <tr>\n",
       "      <th>10687</th>\n",
       "      <td>9815</td>\n",
       "      <td>WINE GROUP INC</td>\n",
       "      <td>8527</td>\n",
       "      <td>Concannon Glen Ellen Wh Zin</td>\n",
       "      <td>1.32</td>\n",
       "      <td>4.99</td>\n",
       "      <td>750.0</td>\n",
       "      <td>2</td>\n",
       "      <td>2.64</td>\n",
       "      <td>5.0</td>\n",
       "      <td>15.95</td>\n",
       "      <td>10.96</td>\n",
       "      <td>0.55</td>\n",
       "      <td>27100.41</td>\n",
       "      <td>13.31</td>\n",
       "      <td>83.448276</td>\n",
       "      <td>2.500000</td>\n",
       "      <td>6.041667</td>\n",
       "    </tr>\n",
       "    <tr>\n",
       "      <th>10688</th>\n",
       "      <td>8004</td>\n",
       "      <td>SAZERAC CO INC</td>\n",
       "      <td>5683</td>\n",
       "      <td>Dr McGillicuddy's Apple Pie</td>\n",
       "      <td>0.39</td>\n",
       "      <td>0.49</td>\n",
       "      <td>50.0</td>\n",
       "      <td>6</td>\n",
       "      <td>2.34</td>\n",
       "      <td>134.0</td>\n",
       "      <td>65.66</td>\n",
       "      <td>1.47</td>\n",
       "      <td>7.04</td>\n",
       "      <td>50293.62</td>\n",
       "      <td>63.32</td>\n",
       "      <td>96.436186</td>\n",
       "      <td>22.333333</td>\n",
       "      <td>28.059829</td>\n",
       "    </tr>\n",
       "    <tr>\n",
       "      <th>10689</th>\n",
       "      <td>3924</td>\n",
       "      <td>HEAVEN HILL DISTILLERIES</td>\n",
       "      <td>9123</td>\n",
       "      <td>Deep Eddy Vodka</td>\n",
       "      <td>0.74</td>\n",
       "      <td>0.99</td>\n",
       "      <td>50.0</td>\n",
       "      <td>2</td>\n",
       "      <td>1.48</td>\n",
       "      <td>2.0</td>\n",
       "      <td>1.98</td>\n",
       "      <td>0.99</td>\n",
       "      <td>0.10</td>\n",
       "      <td>14069.87</td>\n",
       "      <td>0.50</td>\n",
       "      <td>25.252525</td>\n",
       "      <td>1.000000</td>\n",
       "      <td>1.337838</td>\n",
       "    </tr>\n",
       "    <tr>\n",
       "      <th>10690</th>\n",
       "      <td>3960</td>\n",
       "      <td>DIAGEO NORTH AMERICA INC</td>\n",
       "      <td>6127</td>\n",
       "      <td>The Club Strawbry Margarita</td>\n",
       "      <td>1.47</td>\n",
       "      <td>1.99</td>\n",
       "      <td>200.0</td>\n",
       "      <td>1</td>\n",
       "      <td>1.47</td>\n",
       "      <td>72.0</td>\n",
       "      <td>143.28</td>\n",
       "      <td>77.61</td>\n",
       "      <td>15.12</td>\n",
       "      <td>257032.07</td>\n",
       "      <td>141.81</td>\n",
       "      <td>98.974037</td>\n",
       "      <td>72.000000</td>\n",
       "      <td>97.469388</td>\n",
       "    </tr>\n",
       "    <tr>\n",
       "      <th>10691</th>\n",
       "      <td>7245</td>\n",
       "      <td>PROXIMO SPIRITS INC.</td>\n",
       "      <td>3065</td>\n",
       "      <td>Three Olives Grape Vodka</td>\n",
       "      <td>0.71</td>\n",
       "      <td>0.99</td>\n",
       "      <td>50.0</td>\n",
       "      <td>1</td>\n",
       "      <td>0.71</td>\n",
       "      <td>86.0</td>\n",
       "      <td>85.14</td>\n",
       "      <td>33.66</td>\n",
       "      <td>4.46</td>\n",
       "      <td>38994.78</td>\n",
       "      <td>84.43</td>\n",
       "      <td>99.166079</td>\n",
       "      <td>86.000000</td>\n",
       "      <td>119.915493</td>\n",
       "    </tr>\n",
       "  </tbody>\n",
       "</table>\n",
       "<p>10692 rows × 18 columns</p>\n",
       "</div>"
      ],
      "text/plain": [
       "       VendorNumber                VendorName  Brand  \\\n",
       "0              1128         BROWN-FORMAN CORP   1233   \n",
       "1              4425     MARTIGNETTI COMPANIES   3405   \n",
       "2             17035         PERNOD RICARD USA   8068   \n",
       "3              3960  DIAGEO NORTH AMERICA INC   4261   \n",
       "4              3960  DIAGEO NORTH AMERICA INC   3545   \n",
       "...             ...                       ...    ...   \n",
       "10687          9815            WINE GROUP INC   8527   \n",
       "10688          8004            SAZERAC CO INC   5683   \n",
       "10689          3924  HEAVEN HILL DISTILLERIES   9123   \n",
       "10690          3960  DIAGEO NORTH AMERICA INC   6127   \n",
       "10691          7245      PROXIMO SPIRITS INC.   3065   \n",
       "\n",
       "                       Description  PurchasePrice  ActualPrice  volume  \\\n",
       "0          Jack Daniels No 7 Black          26.27        36.99  1750.0   \n",
       "1            Tito's Handmade Vodka          23.19        28.99  1750.0   \n",
       "2                 Absolut 80 Proof          18.24        24.99  1750.0   \n",
       "3           Capt Morgan Spiced Rum          16.17        22.99  1750.0   \n",
       "4                  Ketel One Vodka          21.89        29.99  1750.0   \n",
       "...                            ...            ...          ...     ...   \n",
       "10687  Concannon Glen Ellen Wh Zin           1.32         4.99   750.0   \n",
       "10688  Dr McGillicuddy's Apple Pie           0.39         0.49    50.0   \n",
       "10689              Deep Eddy Vodka           0.74         0.99    50.0   \n",
       "10690  The Club Strawbry Margarita           1.47         1.99   200.0   \n",
       "10691     Three Olives Grape Vodka           0.71         0.99    50.0   \n",
       "\n",
       "       TotalPurchaseQuantity  TotalPurchaseDollars  TotalSalesQuantity  \\\n",
       "0                     145080            3811251.60            142049.0   \n",
       "1                     164038            3804041.22            160247.0   \n",
       "2                     187407            3418303.68            187140.0   \n",
       "3                     201682            3261197.94            200412.0   \n",
       "4                     138109            3023206.01            135838.0   \n",
       "...                      ...                   ...                 ...   \n",
       "10687                      2                  2.64                 5.0   \n",
       "10688                      6                  2.34               134.0   \n",
       "10689                      2                  1.48                 2.0   \n",
       "10690                      1                  1.47                72.0   \n",
       "10691                      1                  0.71                86.0   \n",
       "\n",
       "       TotalSalesDollars  TotalSalesPrice  TotalExciseTax  FreightCost  \\\n",
       "0             5101919.51        672819.31       260999.20     68601.68   \n",
       "1             4819073.49        561512.37       294438.66    144929.24   \n",
       "2             4538120.60        461140.15       343854.07    123780.22   \n",
       "3             4475972.88        420050.01       368242.80    257032.07   \n",
       "4             4223107.62        545778.28       249587.83    257032.07   \n",
       "...                  ...              ...             ...          ...   \n",
       "10687              15.95            10.96            0.55     27100.41   \n",
       "10688              65.66             1.47            7.04     50293.62   \n",
       "10689               1.98             0.99            0.10     14069.87   \n",
       "10690             143.28            77.61           15.12    257032.07   \n",
       "10691              85.14            33.66            4.46     38994.78   \n",
       "\n",
       "       GrossProfit  ProfitMargin  StockTurnover  SalestoPurchaseRatio  \n",
       "0       1290667.91     25.297693       0.979108              1.338647  \n",
       "1       1015032.27     21.062810       0.976890              1.266830  \n",
       "2       1119816.92     24.675786       0.998575              1.327594  \n",
       "3       1214774.94     27.139908       0.993703              1.372493  \n",
       "4       1199901.61     28.412764       0.983556              1.396897  \n",
       "...            ...           ...            ...                   ...  \n",
       "10687        13.31     83.448276       2.500000              6.041667  \n",
       "10688        63.32     96.436186      22.333333             28.059829  \n",
       "10689         0.50     25.252525       1.000000              1.337838  \n",
       "10690       141.81     98.974037      72.000000             97.469388  \n",
       "10691        84.43     99.166079      86.000000            119.915493  \n",
       "\n",
       "[10692 rows x 18 columns]"
      ]
     },
     "execution_count": 45,
     "metadata": {},
     "output_type": "execute_result"
    }
   ],
   "source": [
    "vendor_sales_summary"
   ]
  },
  {
   "cell_type": "code",
   "execution_count": 47,
   "id": "26322df8-5bde-4b7f-8cf6-ed6c8357c129",
   "metadata": {},
   "outputs": [],
   "source": [
    "#vendor_sales_summary.isnull().sum()"
   ]
  },
  {
   "cell_type": "code",
   "execution_count": null,
   "id": "01385937-d16a-44b0-a5c4-fc044260f102",
   "metadata": {},
   "outputs": [],
   "source": []
  },
  {
   "cell_type": "code",
   "execution_count": null,
   "id": "e5a7930e-a3c3-4c1a-9133-0578f4d5cb14",
   "metadata": {},
   "outputs": [],
   "source": []
  },
  {
   "cell_type": "code",
   "execution_count": null,
   "id": "4dbee0f6-2e55-40c6-85ff-d5b474000e85",
   "metadata": {},
   "outputs": [],
   "source": []
  },
  {
   "cell_type": "code",
   "execution_count": null,
   "id": "586589a0-1849-40a8-a0f3-7336704b3fec",
   "metadata": {},
   "outputs": [],
   "source": []
  },
  {
   "cell_type": "code",
   "execution_count": null,
   "id": "c3d873e4-6212-40fe-b63b-941abf3da2dd",
   "metadata": {},
   "outputs": [],
   "source": []
  },
  {
   "cell_type": "code",
   "execution_count": null,
   "id": "cb64a500-9ad3-403d-8ae4-69159ec1c3a6",
   "metadata": {},
   "outputs": [],
   "source": []
  },
  {
   "cell_type": "code",
   "execution_count": null,
   "id": "43c7950b-a180-4e1d-8e49-b7ff1777c30c",
   "metadata": {},
   "outputs": [],
   "source": []
  },
  {
   "cell_type": "code",
   "execution_count": null,
   "id": "aa6ee14b-daed-4256-9bff-6b03c1814e89",
   "metadata": {},
   "outputs": [],
   "source": []
  },
  {
   "cell_type": "code",
   "execution_count": null,
   "id": "6ef7161c-99a2-490a-b40d-4c0ae56a8f9e",
   "metadata": {},
   "outputs": [],
   "source": []
  }
 ],
 "metadata": {
  "kernelspec": {
   "display_name": "Python 3 (ipykernel)",
   "language": "python",
   "name": "python3"
  },
  "language_info": {
   "codemirror_mode": {
    "name": "ipython",
    "version": 3
   },
   "file_extension": ".py",
   "mimetype": "text/x-python",
   "name": "python",
   "nbconvert_exporter": "python",
   "pygments_lexer": "ipython3",
   "version": "3.11.13"
  }
 },
 "nbformat": 4,
 "nbformat_minor": 5
}
